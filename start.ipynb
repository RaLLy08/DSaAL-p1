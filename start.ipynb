{
 "cells": [
  {
   "cell_type": "code",
   "execution_count": 42,
   "metadata": {
    "scrolled": true
   },
   "outputs": [],
   "source": [
    "! cat data/temperature/*.csv | awk -f com/temperature/removeEmpty.awk | awk -f com/temperature/replaceYearDate.awk | awk -f com/temperature/filterYears.awk | awk -f com/temperature/groupByYearAverageSum.awk  > result/temperature/result.csv"
   ]
  },
  {
   "cell_type": "code",
   "execution_count": 41,
   "metadata": {},
   "outputs": [],
   "source": [
    "! awk -f com/energy/merge.awk data/energy/*.csv | awk -f com/energy/filterYears.awk  > result/energy/merged.csv"
   ]
  },
  {
   "cell_type": "code",
   "execution_count": 64,
   "metadata": {},
   "outputs": [
    {
     "name": "stdout",
     "output_type": "stream",
     "text": [
      "1995,Algeria\r\n",
      "1995,Afghanistan\r\n",
      "1996,Algeria\r\n",
      "1996,Afghanistan\r\n",
      "1997,Algeria\r\n",
      "1997,Afghanistan\r\n",
      "1998,Algeria\r\n",
      "1998,Afghanistan\r\n",
      "1999,Algeria\r\n",
      "1999,Afghanistan\r\n",
      "2000,Algeria\r\n",
      "1990,Africa\r\n",
      "2000,Afghanistan\r\n",
      "2001,Algeria\r\n",
      "1991,Africa\r\n",
      "2001,Afghanistan\r\n",
      "2002,Algeria\r\n",
      "1992,Africa\r\n",
      "2002,Afghanistan\r\n",
      "2003,Algeria\r\n",
      "2003,Afghanistan\r\n",
      "1993,Africa\r\n",
      "2004,Algeria\r\n",
      "2004,Afghanistan\r\n",
      "1994,Africa\r\n",
      "2005,Algeria\r\n",
      "2000,Africa\r\n",
      "2005,Afghanistan\r\n",
      "1995,Africa\r\n",
      "2006,Algeria\r\n",
      "2001,Africa\r\n",
      "2006,Afghanistan\r\n",
      "1996,Africa\r\n",
      "2007,Algeria\r\n",
      "1990,Albania\r\n",
      "2002,Africa\r\n",
      "1997,Africa\r\n",
      "2007,Afghanistan\r\n",
      "2020,Afghanistan\r\n",
      "2008,Algeria\r\n",
      "1991,Albania\r\n",
      "2003,Africa\r\n",
      "1998,Africa\r\n",
      "2008,Afghanistan\r\n",
      "2009,Algeria\r\n",
      "1992,Albania\r\n",
      "2004,Africa\r\n",
      "1999,Africa\r\n",
      "2009,Afghanistan\r\n",
      "1993,Albania\r\n",
      "2005,Africa\r\n",
      "1994,Albania\r\n",
      "2006,Africa\r\n",
      "1995,Albania\r\n",
      "2020,Africa\r\n",
      "2007,Africa\r\n",
      "1996,Albania\r\n",
      "2008,Africa\r\n",
      "1997,Albania\r\n",
      "2009,Africa\r\n",
      "1998,Albania\r\n",
      "1999,Albania\r\n",
      "2000,Albania\r\n",
      "2001,Albania\r\n",
      "2002,Albania\r\n",
      "2003,Albania\r\n",
      "2004,Albania\r\n",
      "2005,Albania\r\n",
      "2006,Albania\r\n",
      "2020,Albania\r\n",
      "2007,Albania\r\n",
      "2008,Albania\r\n",
      "2009,Albania\r\n",
      "2010,Algeria\r\n",
      "2010,Afghanistan\r\n",
      "2011,Algeria\r\n",
      "2011,Afghanistan\r\n",
      "2012,Algeria\r\n",
      "2012,Afghanistan\r\n",
      "2013,Algeria\r\n",
      "2013,Afghanistan\r\n",
      "2014,Afghanistan\r\n",
      "2010,Africa\r\n",
      "2015,Afghanistan\r\n",
      "2011,Africa\r\n",
      "2016,Afghanistan\r\n",
      "2012,Africa\r\n",
      "2017,Afghanistan\r\n",
      "2013,Africa\r\n",
      "2018,Afghanistan\r\n",
      "2014,Africa\r\n",
      "2019,Afghanistan\r\n",
      "2015,Africa\r\n",
      "2016,Africa\r\n",
      "2017,Africa\r\n",
      "2018,Africa\r\n",
      "2019,Africa\r\n",
      "2010,Albania\r\n",
      "2011,Albania\r\n",
      "2012,Albania\r\n",
      "2013,Albania\r\n",
      "2014,Albania\r\n",
      "2015,Albania\r\n",
      "2016,Albania\r\n",
      "2017,Albania\r\n",
      "2018,Albania\r\n",
      "2019,Albania\r\n",
      "1990,Algeria\r\n",
      "1990,Afghanistan\r\n",
      "1991,Algeria\r\n",
      "1991,Afghanistan\r\n",
      "1992,Algeria\r\n",
      "1992,Afghanistan\r\n",
      "1993,Algeria\r\n",
      "1993,Afghanistan\r\n",
      "1994,Algeria\r\n",
      "1994,Afghanistan\r\n"
     ]
    }
   ],
   "source": []
  },
  {
   "cell_type": "code",
   "execution_count": null,
   "metadata": {},
   "outputs": [],
   "source": []
  }
 ],
 "metadata": {
  "kernelspec": {
   "display_name": "Python 3",
   "language": "python",
   "name": "python3"
  },
  "language_info": {
   "codemirror_mode": {
    "name": "ipython",
    "version": 3
   },
   "file_extension": ".py",
   "mimetype": "text/x-python",
   "name": "python",
   "nbconvert_exporter": "python",
   "pygments_lexer": "ipython3",
   "version": "3.6.9"
  },
  "vscode": {
   "interpreter": {
    "hash": "c74168dd9cafd6b30ae45c595ed80e55cd8150ada6506afbf8fe65a5216363dc"
   }
  }
 },
 "nbformat": 4,
 "nbformat_minor": 2
}
