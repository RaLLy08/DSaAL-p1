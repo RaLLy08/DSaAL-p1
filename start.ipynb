{
 "cells": [
  {
   "cell_type": "markdown",
   "metadata": {},
   "source": [
    "<h3>data/temperature/*.csv -> result/temperature/result.csv</h3>\n",
    "<ol style=\"color: blue\">\n",
    "  <li>Remove empty lines </li>\n",
    "  <li>Replace date to year </li>\n",
    "  <li>Remove cells with older than 1990</li>\n",
    "  <li>Groups by country+year and sum averages for temperatures</li>\n",
    "</ol>"
   ]
  },
  {
   "cell_type": "code",
   "execution_count": 234,
   "metadata": {},
   "outputs": [
    {
     "name": "stdout",
     "output_type": "stream",
     "text": [
      "Columns: 4\r\n",
      "Rows: 5785\r\n"
     ]
    }
   ],
   "source": [
    "! cat data/temperature/*.csv | awk -f com/temperature/removeEmpty.awk | awk -f com/temperature/replaceYearDate.awk | awk -f com/temperature/filterYears.awk | awk -f com/temperature/groupByYearAverageSum.awk  > result/temperature/grouped.csv; awk -f com/countColumsRows.awk result/temperature/grouped.csv "
   ]
  },
  {
   "cell_type": "markdown",
   "metadata": {},
   "source": [
    "<h3>data/energy/*.csv -> result/energy/result.csv</h3>\n",
    "<ol style=\"color: blue\">\n",
    "  <li>Merge all countries </li>\n",
    "  <li>Remove cells with older than 1990</li>\n",
    "</ol>"
   ]
  },
  {
   "cell_type": "code",
   "execution_count": 319,
   "metadata": {},
   "outputs": [
    {
     "name": "stdout",
     "output_type": "stream",
     "text": [
      "Columns: 128\r\n",
      "Rows: 7292\r\n"
     ]
    }
   ],
   "source": [
    "! awk -f com/energy/merge.awk data/energy/*.csv | awk -f com/energy/filterYears.awk  > result/energy/merged.csv; awk -f com/countColumsRows.awk result/energy/merged.csv"
   ]
  },
  {
   "cell_type": "markdown",
   "metadata": {},
   "source": [
    "<h3>result/temperature/grouped.csv -> temperature_key.csv</h3>\n",
    "<ol style=\"color: blue\">\n",
    "  <li>Makes temporary file which: Concates 4(country) And 1(year) columns and makes (key) column: key=\"country\"\"year\"</li>\n",
    "</ol>"
   ]
  },
  {
   "cell_type": "code",
   "execution_count": 328,
   "metadata": {
    "scrolled": true
   },
   "outputs": [
    {
     "name": "stdout",
     "output_type": "stream",
     "text": [
      "Columns: 5\r\n",
      "Rows: 5785\r\n"
     ]
    }
   ],
   "source": [
    "!cat result/temperature/grouped.csv | mlr --nidx --fs \",\" put -S '$key=\"key\"; $key=NR == 1 ? \"key\" : $4.$1' > temperature_key.csv; awk -f com/countColumsRows.awk temperature_key.csv"
   ]
  },
  {
   "cell_type": "markdown",
   "metadata": {},
   "source": [
    "<h3>result/energy/merged.csv -> energy_key.csv</h3>\n",
    "<ol style=\"color: blue\">\n",
    "  <li>Makes temporary file which: Concates 2(country) And 3(year) columns and makes (key) column: key=\"country\"\"year\"</li>\n",
    "</ol>"
   ]
  },
  {
   "cell_type": "code",
   "execution_count": 329,
   "metadata": {},
   "outputs": [
    {
     "name": "stdout",
     "output_type": "stream",
     "text": [
      "Columns: 129\n",
      "Rows: 7292\n"
     ]
    }
   ],
   "source": [
    "!cat result/energy/merged.csv | mlr --nidx --fs \",\" put -S '$key=\"key\"; $key=NR == 1 ? \"key\" : $2.$3' > energy_key.csv; awk -f com/countColumsRows.awk energy_key.csv "
   ]
  },
  {
   "cell_type": "markdown",
   "metadata": {},
   "source": [
    "<h3>temperature_key.csv  energy_key.csv -> result/temperature_energy_joined.csv</h3>\n",
    "<ol style=\"color: blue\">\n",
    "  <li>Join by key column</li>\n",
    "  <li>Removes key column</li>\n",
    "</ol>"
   ]
  },
  {
   "cell_type": "code",
   "execution_count": 330,
   "metadata": {},
   "outputs": [
    {
     "name": "stdout",
     "output_type": "stream",
     "text": [
      "Columns: 132\n",
      "Rows: 4460\n"
     ]
    }
   ],
   "source": [
    "! mlr --csv join -j key -f temperature_key.csv energy_key.csv | awk -F , 'BEGIN {OFS=FS}  {$1=\"\"; sub(\",\", \"\"); print}' > result/temperature_energy_joined.csv; rm temperature_key.csv energy_key.csv; awk -f com/countColumsRows.awk result/temperature_energy_joined.csv"
   ]
  },
  {
   "cell_type": "code",
   "execution_count": null,
   "metadata": {},
   "outputs": [],
   "source": []
  }
 ],
 "metadata": {
  "kernelspec": {
   "display_name": "Python 3",
   "language": "python",
   "name": "python3"
  },
  "language_info": {
   "codemirror_mode": {
    "name": "ipython",
    "version": 3
   },
   "file_extension": ".py",
   "mimetype": "text/x-python",
   "name": "python",
   "nbconvert_exporter": "python",
   "pygments_lexer": "ipython3",
   "version": "3.6.9"
  },
  "vscode": {
   "interpreter": {
    "hash": "c74168dd9cafd6b30ae45c595ed80e55cd8150ada6506afbf8fe65a5216363dc"
   }
  }
 },
 "nbformat": 4,
 "nbformat_minor": 2
}
