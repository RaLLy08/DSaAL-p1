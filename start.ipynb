{
 "cells": [
  {
   "cell_type": "markdown",
   "metadata": {},
   "source": [
    "<h3>data/temperature/*.csv -> result/temperature/result.csv</h3>\n",
    "<ol style=\"color: blue\">\n",
    "  <li>Remove empty lines </li>\n",
    "  <li>Replace date to year </li>\n",
    "  <li>Remove cells with older than 1990</li>\n",
    "  <li>Groups by country+year and sum averages for temperatures</li>\n",
    "</ol>"
   ]
  },
  {
   "cell_type": "code",
   "execution_count": null,
   "metadata": {},
   "outputs": [],
   "source": [
    "! cat data/temperature/*.csv | awk -f com/temperature/removeEmpty.awk | awk -f com/temperature/replaceYearDate.awk | awk -f com/temperature/filterYears.awk | awk -f com/temperature/groupByYearAverageSum.awk  > result/temperature/result.csv"
   ]
  },
  {
   "cell_type": "code",
   "execution_count": null,
   "metadata": {},
   "outputs": [],
   "source": [
    "<ol style=\"color: green\">\n",
    "  <li>Remove empty lines </li>\n",
    "  <li>Replace date to year </li>\n",
    "  <li>Remove cells with older than 1990</li>\n",
    "  <li>Groups by country+year and sum averages for temperatures</li>\n",
    "</ol>"
   ]
  },
  {
   "cell_type": "code",
   "execution_count": 41,
   "metadata": {},
   "outputs": [],
   "source": [
    "! awk -f com/energy/merge.awk data/energy/*.csv | awk -f com/energy/filterYears.awk  > result/energy/merged.csv"
   ]
  }
 ],
 "metadata": {
  "kernelspec": {
   "display_name": "Python 3",
   "language": "python",
   "name": "python3"
  },
  "vscode": {
   "interpreter": {
    "hash": "c74168dd9cafd6b30ae45c595ed80e55cd8150ada6506afbf8fe65a5216363dc"
   }
  }
 },
 "nbformat": 4,
 "nbformat_minor": 2
}
