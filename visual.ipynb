{
 "cells": [
  {
   "cell_type": "markdown",
   "metadata": {},
   "source": [
    "<h3>Select columns and rows</h3>\n",
    "OFS=\"[output separator]\" { if ([column index] == \"Russia\") print [column index], ...}"
   ]
  },
  {
   "cell_type": "code",
   "execution_count": 1,
   "metadata": {},
   "outputs": [],
   "source": [
    "!awk -F, 'OFS=\" \"{if ($4 == \"Russia\") print $1, $2}' result/temperature_energy_joined.csv > result/russia_temperature.txt"
   ]
  },
  {
   "cell_type": "code",
   "execution_count": 9,
   "metadata": {},
   "outputs": [],
   "source": [
    "!gnuplot -p -e 'filename=\"result/russia_temperature.txt\"; fileout=\"visual/image.png\"' visual/settings/settings_initial.g"
   ]
  },
  {
   "cell_type": "code",
   "execution_count": 7,
   "metadata": {},
   "outputs": [],
   "source": [
    "!awk -F, 'OFS=\" \"{if ($1 == \"1990\") print $2, $3, $9, $14, $15, $4}' result/temperature_energy_joined.csv > result/temperature_1990.txt"
   ]
  },
  {
   "cell_type": "code",
   "execution_count": 21,
   "metadata": {},
   "outputs": [],
   "source": [
    "!gnuplot -p -e 'filename=\"result/temperature_1990.txt\"; fileout=\"visual/temperature_1990.png\"' visual/settings/temperature_1990.g"
   ]
  },
  {
   "cell_type": "code",
   "execution_count": 18,
   "metadata": {},
   "outputs": [],
   "source": [
    "!awk -F, 'OFS=\" \"{if ($1 == \"2000\") print $2, $3, $9, $14, $15, $4}' result/temperature_energy_joined.csv > result/temperature_2000.txt"
   ]
  },
  {
   "cell_type": "code",
   "execution_count": 26,
   "metadata": {},
   "outputs": [],
   "source": [
    "!awk -F, 'OFS=\" \"{if ($1 == \"2010\") print $2, $3, $9, $14, $15, $4}' result/temperature_energy_joined.csv > result/temperature_2010.txt"
   ]
  },
  {
   "cell_type": "code",
   "execution_count": 41,
   "metadata": {},
   "outputs": [],
   "source": [
    "!gnuplot -p -e 'filename1=\"result/temperature_2000.txt\";filename2=\"result/temperature_2010.txt\"; fileout=\"visual/temp_compare_2000vs2010.png\"' visual/settings/compare_temperature_2000vs2010.g"
   ]
  },
  {
   "cell_type": "code",
   "execution_count": 42,
   "metadata": {},
   "outputs": [],
   "source": [
    "!awk -F, 'OFS=\" \"{if ($1 == \"1995\") print $2, $3, $9, $14, $15, $4}' result/temperature_energy_joined.csv > result/temperature_1995.txt"
   ]
  },
  {
   "cell_type": "code",
   "execution_count": 58,
   "metadata": {},
   "outputs": [],
   "source": [
    "!gnuplot -p -e 'filename1=\"result/temperature_2000.txt\";filename2=\"result/temperature_2010.txt\";filename3=\"result/temperature_1990.txt\";filename4=\"result/temperature_1995.txt\"; fileout=\"visual/compare_5_countries.png\"' visual/settings/compare_5_countries.g"
   ]
  },
  {
   "cell_type": "code",
   "execution_count": 71,
   "metadata": {},
   "outputs": [],
   "source": [
    "!gnuplot -p -e 'filename1=\"result/temperature_2000.txt\";filename2=\"result/temperature_2010.txt\";filename3=\"result/temperature_1990.txt\";filename4=\"result/temperature_1995.txt\"; fileout=\"visual/barplot.png\"' visual/settings/barplot.g"
   ]
  },
  {
   "cell_type": "code",
   "execution_count": 124,
   "metadata": {},
   "outputs": [],
   "source": [
    "!awk -F, 'OFS=\" \"{if ($2 <= \"0\" && $1 ==\"2001\") print $2, $3, $31, $14, $15, $4}' result/temperature_energy_joined.csv > result/coal_cold_countries.txt"
   ]
  },
  {
   "cell_type": "code",
   "execution_count": 125,
   "metadata": {},
   "outputs": [
    {
     "name": "stdout",
     "output_type": "stream",
     "text": [
      "-3.10008 0.237167 462.901 -1.991 -71.183 Canada\r\n",
      "-17.0678 0.6745 0.0 0.245 0.576 Denmark\r\n",
      "-17.5964 0.691167 0.0 -6.663 -0.198 Greenland\r\n",
      "-4.49067 0.220417 1493.874 1.565 112.298 Russia\r\n"
     ]
    }
   ],
   "source": [
    "!cat result/coal_cold_countries.txt"
   ]
  },
  {
   "cell_type": "code",
   "execution_count": 126,
   "metadata": {},
   "outputs": [],
   "source": [
    " !awk -F, 'OFS=\" \"{if ($2 >= \"28\" && $1 == \"2001\") print $2, $3, $31, $14, $15, $4}' result/temperature_energy_joined.csv > result/coal_hot_countries.txt"
   ]
  },
  {
   "cell_type": "code",
   "execution_count": 127,
   "metadata": {},
   "outputs": [
    {
     "name": "stdout",
     "output_type": "stream",
     "text": [
      "28.6309 0.498583 0.0 3.471 0.153 Aruba\r\n",
      "7.18892 0.217583 3.456 3.687 14.132 Austria\r\n",
      "7.09225 0.196417 0.0 -2.519 -6.432 Belarus\r\n",
      "28.7322 0.332583 0.0 11.122 0.474 Burkina Faso\r\n",
      "9.81967 0.349667 2.953 0.672 2.06 Chile\r\n",
      "7.59642 0.17425 8715.23 5.626 663.507 China\r\n",
      "29.4769 0.686 0.0 -0.372 -0.013 Djibouti\r\n",
      "5.973 0.227 0.0 4.072 2.198 Estonia\r\n",
      "8.78708 0.168833 3203.836 1.087 263.854 Europe\r\n",
      "28.4898 0.758333 0.0 8.93 0.113 Gambia\r\n",
      "9.86175 0.355417 0.005 -7.615 -3.061 Georgia\r\n",
      "9.09042 0.18475 677.528 1.766 70.195 Germany\r\n",
      "6.81308 0.286083 398.239 12.583 46.355 Kazakhstan\r\n",
      "4.781 0.3515 2.193 -5.114 -3.578 Kyrgyzstan\r\n",
      "6.53925 0.226667 0.0 7.828 2.916 Latvia\r\n",
      "7.12042 0.199333 0.0 16.832 13.04 Lithuania\r\n",
      "29.3108 0.629417 0.0 1.18 0.052 Mali\r\n",
      "28.8784 0.762083 0.0 4.376 0.221 Mauritania\r\n",
      "28.118 0.69975 0.97 -2.078 -0.069 Niger\r\n",
      "7.72708 0.245 171.613 -2.745 -7.883 North Korea\r\n",
      "28.0833 0.44875 0.0 10.372 11.886 Oman\r\n",
      "8.33383 0.24775 838.016 -0.709 -7.207 Poland\r\n",
      "28.3057 0.568583 0.0 -3.896 -5.228 Qatar\r\n",
      "9.63858 0.217917 66.298 1.142 4.767 Romania\r\n",
      "28.9363 0.76725 0.0 8.978 1.787 Senegal\r\n",
      "8.30775 0.273167 10.696 2.848 6.164 Slovakia\r\n",
      "3.13967 0.223583 0.0 7.358 45.63 Sweden\r\n",
      "7.97975 0.238667 0.0 6.742 23.989 Switzerland\r\n",
      "5.71817 0.427083 0.157 4.675 2.749 Tajikistan\r\n",
      "8.93867 0.172417 419.522 -1.43 -22.58 Ukraine\r\n",
      "29.0096 0.322 0.0 1.075 5.758 United Arab Emirates\r\n",
      "9.14008 0.22375 232.237 1.105 29.391 United Kingdom\r\n",
      "9.78558 0.13875 6555.921 -2.358 -623.204 United States\r\n"
     ]
    }
   ],
   "source": [
    "!cat result/coal_hot_countries.txt"
   ]
  },
  {
   "cell_type": "code",
   "execution_count": 128,
   "metadata": {},
   "outputs": [],
   "source": [
    "!gnuplot -p -e 'filename1=\"result/coal_cold_countries.txt\";filename2=\"result/coal_hot_countries.txt\"; fileout=\"visual/coal_production.png\"' visual/settings/coal_production.g"
   ]
  },
  {
   "cell_type": "code",
   "execution_count": 131,
   "metadata": {},
   "outputs": [],
   "source": [
    "!awk -F, 'OFS=\" \"{if ($2 >= \"28\" && $1 == \"2010\") print $2, $3, $31, $14, $15, $4}' result/temperature_energy_joined.csv > result/coal_hot_countries_2010.txt"
   ]
  },
  {
   "cell_type": "code",
   "execution_count": 133,
   "metadata": {},
   "outputs": [],
   "source": [
    "!awk -F, 'OFS=\" \"{if ($2 <= \"0\" && $1 == \"2010\") print $2, $3, $31, $14, $15, $4}' result/temperature_energy_joined.csv > result/coal_cold_countries_2010.txt"
   ]
  },
  {
   "cell_type": "code",
   "execution_count": 134,
   "metadata": {},
   "outputs": [],
   "source": [
    "!gnuplot -p -e 'filename1=\"result/coal_cold_countries_2010.txt\";filename2=\"result/coal_hot_countries_2010.txt\"; fileout=\"visual/coal_production_2010.png\"' visual/settings/coal_production.g"
   ]
  },
  {
   "cell_type": "code",
   "execution_count": 162,
   "metadata": {},
   "outputs": [],
   "source": [
    "!awk -F, 'OFS=\" \"{if ($4 == \"Germany\") print $1, $31, $99}' result/temperature_energy_joined.csv > result/Germany.txt"
   ]
  },
  {
   "cell_type": "code",
   "execution_count": 210,
   "metadata": {},
   "outputs": [
    {
     "name": "stdout",
     "output_type": "stream",
     "text": [
      "1990 1454.182 576.293 150.246\r\n",
      "1991 1234.531 566.701 153.953\r\n",
      "1992 1135.491 501.247 156.16\r\n",
      "1993 1021.692 481.207 155.404\r\n",
      "1994 941.432 459.747 162.921\r\n",
      "1995 919.346 461.357 168.117\r\n",
      "1996 860.474 464.133 182.062\r\n",
      "1997 824.191 436.496 178.967\r\n",
      "1998 756.048 459.861 174.87\r\n",
      "1999 735.945 428.751 186.783\r\n",
      "2000 706.087 498.786 176.654\r\n",
      "2001 677.528 505.24 178.334\r\n",
      "2002 679.462 535.861 177.868\r\n",
      "2003 672.2 562.052 185.157\r\n",
      "2004 679.345 529.106 171.335\r\n",
      "2005 657.931 520.359 165.427\r\n",
      "2006 620.454 526.078 163.422\r\n",
      "2007 632.836 517.691 149.697\r\n",
      "2008 582.616 470.885 136.351\r\n",
      "2009 539.803 431.347 127.462\r\n",
      "2010 533.795 384.632 111.24\r\n",
      "2011 543.483 400.19 104.655\r\n",
      "2012 555.595 400.706 94.614\r\n",
      "2013 524.756 403.03 86.041\r\n"
     ]
    }
   ],
   "source": [
    "!cat result/Germany.txt"
   ]
  },
  {
   "cell_type": "code",
   "execution_count": 166,
   "metadata": {},
   "outputs": [],
   "source": [
    "!gnuplot -p -e 'filename=\"result/Germany.txt\"; fileout=\"visual/oil_and_coal.png\"' visual/settings/oil_and_coal.g"
   ]
  },
  {
   "cell_type": "code",
   "execution_count": 169,
   "metadata": {},
   "outputs": [],
   "source": [
    "!awk -F, 'OFS=\" \"{if ($4 == \"Turkey\") print $1, $31, $99, $65}' result/temperature_energy_joined.csv > result/Turkey.txt"
   ]
  },
  {
   "cell_type": "code",
   "execution_count": 170,
   "metadata": {},
   "outputs": [
    {
     "name": "stdout",
     "output_type": "stream",
     "text": [
      "1990 136.336 866.205 2.258\r\n",
      "1991 127.976 1026.697 2.162\r\n",
      "1992 140.924 966.702 2.109\r\n",
      "1993 134.32 858.314 2.13\r\n",
      "1994 140.803 800.279 2.119\r\n",
      "1995 140.524 738.207 1.938\r\n",
      "1996 142.998 725.3 2.194\r\n",
      "1997 152.568 719.79 2.697\r\n",
      "1998 162.179 680.775 6.017\r\n",
      "1999 154.5 607.07 7.784\r\n",
      "2000 145.238 534.404 6.805\r\n",
      "2001 142.833 478.432 3.323\r\n",
      "2002 132.12 458.409 4.025\r\n",
      "2003 125.336 437.299 5.963\r\n",
      "2004 122.49 406.147 7.327\r\n",
      "2005 130.419 411.496 9.552\r\n",
      "2006 153.051 392.315 9.637\r\n",
      "2007 172.089 377.032 9.51\r\n",
      "2008 193.919 378.875 10.841\r\n",
      "2009 202.385 414.51 7.291\r\n",
      "2010 203.804 427.6 7.266\r\n",
      "2011 207.816 398.45 8.089\r\n",
      "2012 197.908 384.654 6.734\r\n",
      "2013 179.699 389.695 5.725\r\n"
     ]
    }
   ],
   "source": [
    "!cat result/Turkey.txt"
   ]
  },
  {
   "cell_type": "code",
   "execution_count": 194,
   "metadata": {},
   "outputs": [],
   "source": [
    "!gnuplot -p -e 'filename=\"result/Turkey.txt\"; fileout=\"visual/gas_oil_coal_Turkey.png\"' visual/settings/oil_gas_coal.g"
   ]
  },
  {
   "cell_type": "code",
   "execution_count": 208,
   "metadata": {},
   "outputs": [],
   "source": [
    "!gnuplot -p -e 'filename=\"result/Turkey.txt\"; fileout=\"visual/boxplot-turkey.png\"' visual/settings/boxplot.g"
   ]
  },
  {
   "cell_type": "code",
   "execution_count": 209,
   "metadata": {},
   "outputs": [],
   "source": [
    "!gnuplot -p -e 'filename=\"result/Germany.txt\"; fileout=\"visual/boxplot-germany.png\"' visual/settings/boxplot.g"
   ]
  },
  {
   "cell_type": "code",
   "execution_count": 51,
   "metadata": {},
   "outputs": [],
   "source": [
    "!gnuplot -p -e 'filename=\"stats/1990/clean/1990_coal_prod_clean.csv\"; fileout=\"visual/visual_2013_1990/1990_coal_prod.png\"; mytitle=\"Coal production for all countries in 1990\"; productname=\"coal\"; color=2' visual/settings_2013_1990/production.g"
   ]
  },
  {
   "cell_type": "code",
   "execution_count": 52,
   "metadata": {},
   "outputs": [],
   "source": [
    "!gnuplot -p -e 'filename=\"stats/2013/clean/2013_coal_prod_clean.csv\"; fileout=\"visual/visual_2013_1990/2013_coal_prod.png\"; mytitle=\"Coal production for all countries in 2013\"; productname=\"coal\"; color=5' visual/settings_2013_1990/production.g"
   ]
  },
  {
   "cell_type": "code",
   "execution_count": 53,
   "metadata": {},
   "outputs": [],
   "source": [
    "!gnuplot -p -e 'filename=\"stats/1990/clean/1990_coal_prod_clean.csv\"; fileout=\"visual/visual_2013_1990/1990_coal_prod.png\"; mytitle=\"Coal production for all countries in 1990\"; productname=\"coal\"; color=2' visual/settings_2013_1990/production.g"
   ]
  },
  {
   "cell_type": "code",
   "execution_count": 62,
   "metadata": {},
   "outputs": [],
   "source": [
    "!gnuplot -p -e 'filename1=\"stats/1990/clean_top5/1990_coal_production_top5.csv\";filename2=\"stats/1990/clean_top5/1990_oil_production_top5.csv\"; filename3=\"stats/1990/clean_top5/1990_gas_production_top5.csv\"; filename4=\"stats/2013/clean_top5/2013_coal_production_top5.csv\"; filename5=\"stats/2013/clean_top5/2013_oil_production_top5.csv\"; filename6=\"stats/2013/clean_top5/2013_gas_production_top5.csv\"; fileout=\"visual/visual_2013_1990/compare.png\"' visual/settings_2013_1990/multi_production.g"
   ]
  },
  {
   "cell_type": "code",
   "execution_count": 71,
   "metadata": {},
   "outputs": [],
   "source": [
    "!awk -F, 'OFS=\" \"{if ($4 == \"Azerbaijan\" && $1 >=\"2000\") print $1, $31, $99, $65, $47}' result/temperature_energy_joined.csv > result/greenhouse.txt"
   ]
  },
  {
   "cell_type": "code",
   "execution_count": 88,
   "metadata": {},
   "outputs": [],
   "source": [
    "!gnuplot -p -e 'filename=\"stats/2013/greenhouse/2013_greenhouse_gas_emissions_top5.csv\"; filename2=\"result/greenhouse.txt\"; fileout=\"visual/visual_2013_1990/greenhouse.png\"' visual/settings_2013_1990/greenhouse.g"
   ]
  },
  {
   "cell_type": "code",
   "execution_count": 91,
   "metadata": {},
   "outputs": [],
   "source": [
    "!gnuplot -p -e 'filename1=\"stats/2013/clean_top5/2013_hydro_consumption_top5.csv\";filename2=\"stats/2013/clean_top5/2013_solar_consumption_top5.csv\"; filename3=\"stats/2013/clean_top5/2013_wind_consumption_top5.csv\"; fileout=\"visual/visual_2013_1990/2013_hydro_solar_wind.png\"' visual/settings_2013_1990/2013.g"
   ]
  },
  {
   "cell_type": "code",
   "execution_count": null,
   "metadata": {},
   "outputs": [],
   "source": []
  }
 ],
 "metadata": {
  "kernelspec": {
   "display_name": "Python 3",
   "language": "python",
   "name": "python3"
  },
  "language_info": {
   "codemirror_mode": {
    "name": "ipython",
    "version": 3
   },
   "file_extension": ".py",
   "mimetype": "text/x-python",
   "name": "python",
   "nbconvert_exporter": "python",
   "pygments_lexer": "ipython3",
   "version": "3.8.10"
  },
  "vscode": {
   "interpreter": {
    "hash": "a9bddaedf6de2ce975075bc226d99e1c6c3db53703373ffb150042d854641e3d"
   }
  }
 },
 "nbformat": 4,
 "nbformat_minor": 2
}
