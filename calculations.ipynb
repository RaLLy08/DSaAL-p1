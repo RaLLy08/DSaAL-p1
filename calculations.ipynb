{
 "cells": [
  {
   "cell_type": "markdown",
   "metadata": {},
   "source": [
    "# Cleaning 1990 fossil data (all used values are measured in terawatt-hours)"
   ]
  },
  {
   "cell_type": "code",
   "execution_count": 4,
   "metadata": {},
   "outputs": [],
   "source": [
    "!mlr --csv filter '$dt == 1990' ./result/temperature_energy_joined.csv > ./stats/1990/1990_data.csv"
   ]
  },
  {
   "cell_type": "code",
   "execution_count": 66,
   "metadata": {},
   "outputs": [],
   "source": [
    "!mlr --csv cut -f dt,AverageTemperature,Country,coal_production ./stats/1990/1990_data.csv | awk -F, '($4 != 0 && $4 != \"\"){print$0}' | mlr --csv sort -nr coal_production | head -n 6 > ./stats/1990/clean_top5/1990_coal_production_top5.csv\n",
    "!mlr --csv cut -f dt,AverageTemperature,Country,oil_production ./stats/1990/1990_data.csv | awk -F, '($4 != 0 && $4 != \"\"){print$0}' | mlr --csv sort -nr oil_production | head -n 6 > ./stats/1990/clean_top5/1990_oil_production_top5.csv\n",
    "!mlr --csv cut -f dt,AverageTemperature,Country,gas_production ./stats/1990/1990_data.csv | awk -F, '($4 != 0 && $4 != \"\"){print$0}' | mlr --csv sort -nr gas_production | head -n 6 > ./stats/1990/clean_top5/1990_gas_production_top5.csv\n"
   ]
  },
  {
   "cell_type": "markdown",
   "metadata": {},
   "source": [
    "# Cleaning 2013 fossil data (all used values are measured in terawatt-hours)"
   ]
  },
  {
   "cell_type": "code",
   "execution_count": 55,
   "metadata": {},
   "outputs": [],
   "source": [
    "!mlr --csv filter '$dt == 2013' ./result/temperature_energy_joined.csv > ./stats/2013/2013_data.csv"
   ]
  },
  {
   "cell_type": "code",
   "execution_count": 65,
   "metadata": {},
   "outputs": [],
   "source": [
    "!mlr --csv cut -f dt,AverageTemperature,Country,coal_production ./stats/2013/2013_data.csv | awk -F, '($4 != 0 && $4 != \"\"){print$0}' | mlr --csv sort -nr coal_production | head -n 6 > ./stats/2013/clean_top5/2013_coal_production_top5.csv\n",
    "!mlr --csv cut -f dt,AverageTemperature,Country,oil_production ./stats/2013/2013_data.csv | awk -F, '($4 != 0 && $4 != \"\"){print$0}' | mlr --csv sort -nr oil_production | head -n 6 > ./stats/2013/clean_top5/2013_oil_production_top5.csv\n",
    "!mlr --csv cut -f dt,AverageTemperature,Country,gas_production ./stats/2013/2013_data.csv | awk -F, '($4 != 0 && $4 != \"\"){print$0}' | mlr --csv sort -nr gas_production | head -n 6 > ./stats/2013/clean_top5/2013_gas_production_top5.csv\n"
   ]
  },
  {
   "cell_type": "markdown",
   "metadata": {},
   "source": [
    "# Cleaning alternative energy data for 2013"
   ]
  },
  {
   "cell_type": "code",
   "execution_count": 63,
   "metadata": {},
   "outputs": [],
   "source": [
    "!mlr --csv cut -f dt,AverageTemperature,Country,solar_consumption ./stats/2013/2013_data.csv | awk -F, '($4 != 0 && $4 != \"\"){print$0}' | mlr --csv sort -nr solar_consumption | head -n 6 > ./stats/2013/clean_top5/2013_solar_consumption_top5.csv\n",
    "!mlr --csv cut -f dt,AverageTemperature,Country,wind_consumption ./stats/2013/2013_data.csv | awk -F, '($4 != 0 && $4 != \"\"){print$0}' | mlr --csv sort -nr wind_consumption | head -n 6 > ./stats/2013/clean_top5/2013_wind_consumption_top5.csv\n",
    "!mlr --csv cut -f dt,AverageTemperature,Country,hydro_consumption ./stats/2013/2013_data.csv | awk -F, '($4 != 0 && $4 != \"\"){print$0}' | mlr --csv sort -nr hydro_consumption | head -n 6 > ./stats/2013/clean_top5/2013_hydro_consumption_top5.csv"
   ]
  },
  {
   "cell_type": "markdown",
   "metadata": {},
   "source": [
    "# Cleaning greenhouse emissions data (emissions are measured in million tonnes of CO2 equivalent)"
   ]
  },
  {
   "cell_type": "code",
   "execution_count": 67,
   "metadata": {},
   "outputs": [],
   "source": [
    "!mlr --csv cut -f dt,AverageTemperature,Country,greenhouse_gas_emissions ./stats/2013/2013_data.csv | awk -F, '($4 != 0 && $4 != \"\"){print$0}' | mlr --csv sort -nr greenhouse_gas_emissions | head -n 6 > ./stats/2013/greenhouse/2013_greenhouse_gas_emissions_top5.csv"
   ]
  },
  {
   "cell_type": "markdown",
   "metadata": {},
   "source": [
    "# Correlation and covariance between temperature and greenhouse emissions (Global)"
   ]
  },
  {
   "cell_type": "code",
   "execution_count": 21,
   "metadata": {},
   "outputs": [
    {
     "name": "stdout",
     "output_type": "stream",
     "text": [
      "AverageTemperature_greenhouse_gas_emissions_corr\n",
      "-0.199629\n"
     ]
    }
   ],
   "source": [
    "!mlr --csv stats2 -a corr -f AverageTemperature,greenhouse_gas_emissions ./result/temperature_energy_joined.csv"
   ]
  },
  {
   "cell_type": "code",
   "execution_count": 25,
   "metadata": {},
   "outputs": [
    {
     "name": "stdout",
     "output_type": "stream",
     "text": [
      "AverageTemperature_greenhouse_gas_emissions_cov\n",
      "-459.847686\n"
     ]
    }
   ],
   "source": [
    "!mlr --csv stats2 -a cov -f AverageTemperature,greenhouse_gas_emissions ./result/temperature_energy_joined.csv"
   ]
  },
  {
   "cell_type": "markdown",
   "metadata": {},
   "source": [
    "# How is production of fossil fuels and greenhouse emissions correlated to the change in average temperature?\n",
    "\n",
    "Population Analysis by country - correlation between temperature and fossil fuel production"
   ]
  },
  {
   "cell_type": "markdown",
   "metadata": {},
   "source": [
    "Azerbaijan"
   ]
  },
  {
   "cell_type": "code",
   "execution_count": 51,
   "metadata": {},
   "outputs": [
    {
     "name": "stdout",
     "output_type": "stream",
     "text": [
      "AverageTemperature_coal_production_corr\n",
      "-nan\n",
      "AverageTemperature_oil_production_corr\n",
      "0.479062\n",
      "AverageTemperature_gas_production_corr\n",
      "0.348383\n",
      "AverageTemperature_greenhouse_gas_emissions_corr\n",
      "0.066039\n",
      "AverageTemperature_fossil_energy_per_capita_corr\n",
      "-0.518949\n"
     ]
    }
   ],
   "source": [
    "!echo \"-----------Coal-----------\"\n",
    "!mlr --csv filter '$Country == \"Azerbaijan\"' ./result/temperature_energy_joined.csv | mlr --csv stats2 -a corr -f AverageTemperature,coal_production\n",
    "!echo \"-----------Oil-----------\"\n",
    "!mlr --csv filter '$Country == \"Azerbaijan\"' ./result/temperature_energy_joined.csv | mlr --csv stats2 -a corr -f AverageTemperature,oil_production\n",
    "!echo \"-----------Gas-----------\"\n",
    "!mlr --csv filter '$Country == \"Azerbaijan\"' ./result/temperature_energy_joined.csv | mlr --csv stats2 -a corr -f AverageTemperature,gas_production\n",
    "!echo \"-----------Greenhouse-----------\"\n",
    "!mlr --csv filter '$Country == \"Azerbaijan\"' ./result/temperature_energy_joined.csv | mlr --csv stats2 -a corr -f AverageTemperature,greenhouse_gas_emissions"
   ]
  },
  {
   "cell_type": "markdown",
   "metadata": {},
   "source": [
    "Russia"
   ]
  },
  {
   "cell_type": "code",
   "execution_count": 36,
   "metadata": {},
   "outputs": [
    {
     "name": "stdout",
     "output_type": "stream",
     "text": [
      "AverageTemperature_coal_production_corr\n",
      "0.388587\n",
      "AverageTemperature_oil_production_corr\n",
      "0.511980\n",
      "AverageTemperature_gas_production_corr\n",
      "0.487892\n",
      "AverageTemperature_greenhouse_gas_emissions_corr\n",
      "0.465425\n"
     ]
    }
   ],
   "source": [
    "!echo \"-----------Coal-----------\"\n",
    "!mlr --csv filter '$Country == \"Russia\"' ./result/temperature_energy_joined.csv | mlr --csv stats2 -a corr -f AverageTemperature,coal_production\n",
    "!echo \"-----------Oil-----------\"\n",
    "!mlr --csv filter '$Country == \"Russia\"' ./result/temperature_energy_joined.csv | mlr --csv stats2 -a corr -f AverageTemperature,oil_production\n",
    "!echo \"-----------Gas-----------\"\n",
    "!mlr --csv filter '$Country == \"Russia\"' ./result/temperature_energy_joined.csv | mlr --csv stats2 -a corr -f AverageTemperature,gas_production\n",
    "!echo \"-----------Greenhouse-----------\"\n",
    "!mlr --csv filter '$Country == \"Russia\"' ./result/temperature_energy_joined.csv | mlr --csv stats2 -a corr -f AverageTemperature,greenhouse_gas_emissions"
   ]
  },
  {
   "cell_type": "markdown",
   "metadata": {},
   "source": [
    "China"
   ]
  },
  {
   "cell_type": "code",
   "execution_count": 38,
   "metadata": {},
   "outputs": [
    {
     "name": "stdout",
     "output_type": "stream",
     "text": [
      "AverageTemperature_coal_production_corr\n",
      "0.422363\n",
      "AverageTemperature_oil_production_corr\n",
      "0.466016\n",
      "AverageTemperature_gas_production_corr\n",
      "0.448418\n",
      "AverageTemperature_greenhouse_gas_emissions_corr\n",
      "0.322088\n"
     ]
    }
   ],
   "source": [
    "!echo \"-----------Coal-----------\"\n",
    "!mlr --csv filter '$Country == \"China\"' ./result/temperature_energy_joined.csv | mlr --csv stats2 -a corr -f AverageTemperature,coal_production\n",
    "!echo \"-----------Oil-----------\"\n",
    "!mlr --csv filter '$Country == \"China\"' ./result/temperature_energy_joined.csv | mlr --csv stats2 -a corr -f AverageTemperature,oil_production\n",
    "!echo \"-----------Gas-----------\"\n",
    "!mlr --csv filter '$Country == \"China\"' ./result/temperature_energy_joined.csv | mlr --csv stats2 -a corr -f AverageTemperature,gas_production\n",
    "!echo \"-----------Greenhouse-----------\"\n",
    "!mlr --csv filter '$Country == \"China\"' ./result/temperature_energy_joined.csv | mlr --csv stats2 -a corr -f AverageTemperature,greenhouse_gas_emissions"
   ]
  },
  {
   "cell_type": "markdown",
   "metadata": {},
   "source": [
    "Japan"
   ]
  },
  {
   "cell_type": "code",
   "execution_count": 41,
   "metadata": {},
   "outputs": [
    {
     "name": "stdout",
     "output_type": "stream",
     "text": [
      "AverageTemperature_coal_production_corr\n",
      "-0.161140\n",
      "AverageTemperature_oil_production_corr\n",
      "-0.289524\n",
      "AverageTemperature_gas_production_corr\n",
      "0.161260\n",
      "AverageTemperature_greenhouse_gas_emissions_corr\n",
      "0.037692\n"
     ]
    }
   ],
   "source": [
    "!echo \"-----------Coal-----------\"\n",
    "!mlr --csv filter '$Country == \"Japan\"' ./result/temperature_energy_joined.csv | mlr --csv stats2 -a corr -f AverageTemperature,coal_production\n",
    "!echo \"-----------Oil-----------\"\n",
    "!mlr --csv filter '$Country == \"Japan\"' ./result/temperature_energy_joined.csv | mlr --csv stats2 -a corr -f AverageTemperature,oil_production\n",
    "!echo \"-----------Gas-----------\"\n",
    "!mlr --csv filter '$Country == \"Japan\"' ./result/temperature_energy_joined.csv | mlr --csv stats2 -a corr -f AverageTemperature,gas_production\n",
    "!echo \"-----------Greenhouse-----------\"\n",
    "!mlr --csv filter '$Country == \"Japan\"' ./result/temperature_energy_joined.csv | mlr --csv stats2 -a corr -f AverageTemperature,greenhouse_gas_emissions"
   ]
  },
  {
   "cell_type": "markdown",
   "metadata": {},
   "source": [
    "# How does production of alternative sources of energy affect the change in temperature\n",
    "\n",
    "The share from of primary energy consumption that comes from the alternative source is used for the calculation "
   ]
  },
  {
   "cell_type": "markdown",
   "metadata": {},
   "source": [
    "Germany"
   ]
  },
  {
   "cell_type": "code",
   "execution_count": 60,
   "metadata": {},
   "outputs": [
    {
     "name": "stdout",
     "output_type": "stream",
     "text": [
      "-----------Solar-----------\n",
      "AverageTemperature_solar_consumption_corr\n",
      "0.014721\n",
      "-----------Wind-----------\n",
      "AverageTemperature_wind_consumption_corr\n",
      "0.191385\n",
      "-----------Hydro-----------\n",
      "AverageTemperature_hydro_consumption_corr\n",
      "0.215350\n",
      "-----------Low Carbon-----------\n",
      "AverageTemperature_low_carbon_consumption_corr\n",
      "0.196031\n",
      "-----------Other-----------\n",
      "\n",
      "\n"
     ]
    }
   ],
   "source": [
    "!echo \"-----------Solar-----------\"\n",
    "!mlr --csv filter '$Country == \"Germany\"' ./result/temperature_energy_joined.csv | mlr --csv stats2 -a corr -f AverageTemperature,solar_consumption\n",
    "!echo \"-----------Wind-----------\"\n",
    "!mlr --csv filter '$Country == \"Germany\"' ./result/temperature_energy_joined.csv | mlr --csv stats2 -a corr -f AverageTemperature,wind_consumption\n",
    "!echo \"-----------Hydro-----------\"\n",
    "!mlr --csv filter '$Country == \"Germany\"' ./result/temperature_energy_joined.csv | mlr --csv stats2 -a corr -f AverageTemperature,hydro_consumption\n",
    "!echo \"-----------Low Carbon-----------\"\n",
    "!mlr --csv filter '$Country == \"Germany\"' ./result/temperature_energy_joined.csv | mlr --csv stats2 -a corr -f AverageTemperature,low_carbon_consumption "
   ]
  },
  {
   "cell_type": "markdown",
   "metadata": {},
   "source": [
    "# Strange results"
   ]
  },
  {
   "cell_type": "code",
   "execution_count": 71,
   "metadata": {},
   "outputs": [
    {
     "name": "stdout",
     "output_type": "stream",
     "text": [
      "########################### High correlation with temperature and alternative energy consumption ###########################\n",
      "-----------Solar-----------\n",
      "AverageTemperature_solar_consumption_corr\n",
      "0.568410\n",
      "-----------Wind-----------\n",
      "AverageTemperature_wind_consumption_corr\n",
      "0.427343\n",
      "-----------Hydro-----------\n",
      "AverageTemperature_hydro_consumption_corr\n",
      "0.452624\n",
      "-----------Low Carbon-----------\n",
      "AverageTemperature_low_carbon_consumption_corr\n",
      "0.463230\n"
     ]
    }
   ],
   "source": [
    "!echo \"########################### High correlation with temperature and alternative energy consumption ###########################\"\n",
    "\n",
    "!echo \"-----------Solar-----------\"\n",
    "!mlr --csv filter '$Country == \"China\"' ./result/temperature_energy_joined.csv | mlr --csv stats2 -a corr -f AverageTemperature,solar_consumption\n",
    "!echo \"-----------Wind-----------\"\n",
    "!mlr --csv filter '$Country == \"China\"' ./result/temperature_energy_joined.csv | mlr --csv stats2 -a corr -f AverageTemperature,wind_consumption\n",
    "!echo \"-----------Hydro-----------\"\n",
    "!mlr --csv filter '$Country == \"China\"' ./result/temperature_energy_joined.csv | mlr --csv stats2 -a corr -f AverageTemperature,hydro_consumption\n",
    "!echo \"-----------Low Carbon-----------\"\n",
    "!mlr --csv filter '$Country == \"China\"' ./result/temperature_energy_joined.csv | mlr --csv stats2 -a corr -f AverageTemperature,low_carbon_consumption   "
   ]
  },
  {
   "cell_type": "code",
   "execution_count": 72,
   "metadata": {},
   "outputs": [
    {
     "name": "stdout",
     "output_type": "stream",
     "text": [
      "########################### Correlation with temperature and fossel fuels ###########################\n",
      "-----------Coal-----------\n",
      "AverageTemperature_coal_production_corr\n",
      "0.422363\n",
      "-----------Oil-----------\n",
      "AverageTemperature_oil_production_corr\n",
      "0.466016\n",
      "-----------Gas-----------\n",
      "AverageTemperature_gas_production_corr\n",
      "0.448418\n",
      "-----------Greenhouse-----------\n",
      "AverageTemperature_greenhouse_gas_emissions_corr\n",
      "0.322088\n"
     ]
    }
   ],
   "source": [
    "!echo \"########################### Correlation with temperature and fossel fuels ###########################\"\n",
    "\n",
    "!echo \"-----------Coal-----------\"\n",
    "!mlr --csv filter '$Country == \"China\"' ./result/temperature_energy_joined.csv | mlr --csv stats2 -a corr -f AverageTemperature,coal_production\n",
    "!echo \"-----------Oil-----------\"\n",
    "!mlr --csv filter '$Country == \"China\"' ./result/temperature_energy_joined.csv | mlr --csv stats2 -a corr -f AverageTemperature,oil_production\n",
    "!echo \"-----------Gas-----------\"\n",
    "!mlr --csv filter '$Country == \"China\"' ./result/temperature_energy_joined.csv | mlr --csv stats2 -a corr -f AverageTemperature,gas_production\n",
    "!echo \"-----------Greenhouse-----------\"\n",
    "!mlr --csv filter '$Country == \"China\"' ./result/temperature_energy_joined.csv | mlr --csv stats2 -a corr -f AverageTemperature,greenhouse_gas_emissions"
   ]
  },
  {
   "cell_type": "code",
   "execution_count": 73,
   "metadata": {},
   "outputs": [
    {
     "name": "stdout",
     "output_type": "stream",
     "text": [
      "########################### Covariance with temperature and alternative energy consumption ###########################\n",
      "-----------Solar-----------\n",
      "AverageTemperature_solar_consumption_cov\n",
      "1.381303\n",
      "-----------Wind-----------\n",
      "AverageTemperature_wind_consumption_cov\n",
      "20.635841\n",
      "-----------Hydro-----------\n",
      "AverageTemperature_hydro_consumption_cov\n",
      "142.765627\n",
      "-----------Low Carbon-----------\n",
      "AverageTemperature_low_carbon_consumption_cov\n",
      "195.208788\n"
     ]
    }
   ],
   "source": [
    "!echo \"########################### Covariance with temperature and alternative energy consumption ###########################\"\n",
    "\n",
    "!echo \"-----------Solar-----------\"\n",
    "!mlr --csv filter '$Country == \"China\"' ./result/temperature_energy_joined.csv | mlr --csv stats2 -a cov -f AverageTemperature,solar_consumption\n",
    "!echo \"-----------Wind-----------\"\n",
    "!mlr --csv filter '$Country == \"China\"' ./result/temperature_energy_joined.csv | mlr --csv stats2 -a cov -f AverageTemperature,wind_consumption\n",
    "!echo \"-----------Hydro-----------\"\n",
    "!mlr --csv filter '$Country == \"China\"' ./result/temperature_energy_joined.csv | mlr --csv stats2 -a cov -f AverageTemperature,hydro_consumption\n",
    "!echo \"-----------Low Carbon-----------\"\n",
    "!mlr --csv filter '$Country == \"China\"' ./result/temperature_energy_joined.csv | mlr --csv stats2 -a cov -f AverageTemperature,low_carbon_consumption   "
   ]
  },
  {
   "cell_type": "code",
   "execution_count": 74,
   "metadata": {},
   "outputs": [
    {
     "name": "stdout",
     "output_type": "stream",
     "text": [
      "########################### Covariance with temperature and alternative energy consumption ###########################\n",
      "-----------Coal-----------\n",
      "AverageTemperature_coal_production_cov\n",
      "1195.262683\n",
      "-----------Oil-----------\n",
      "AverageTemperature_oil_production_cov\n",
      "61.617395\n",
      "-----------Gas-----------\n",
      "AverageTemperature_gas_production_cov\n",
      "79.721789\n",
      "-----------Greenhouse-----------\n",
      "AverageTemperature_greenhouse_gas_emissions_cov\n",
      "146.141460\n"
     ]
    }
   ],
   "source": [
    "!echo \"########################### Covariance with temperature and alternative energy consumption ###########################\"\n",
    "\n",
    "!echo \"-----------Coal-----------\"\n",
    "!mlr --csv filter '$Country == \"China\"' ./result/temperature_energy_joined.csv | mlr --csv stats2 -a cov -f AverageTemperature,coal_production\n",
    "!echo \"-----------Oil-----------\"\n",
    "!mlr --csv filter '$Country == \"China\"' ./result/temperature_energy_joined.csv | mlr --csv stats2 -a cov -f AverageTemperature,oil_production\n",
    "!echo \"-----------Gas-----------\"\n",
    "!mlr --csv filter '$Country == \"China\"' ./result/temperature_energy_joined.csv | mlr --csv stats2 -a cov -f AverageTemperature,gas_production\n",
    "!echo \"-----------Greenhouse-----------\"\n",
    "!mlr --csv filter '$Country == \"China\"' ./result/temperature_energy_joined.csv | mlr --csv stats2 -a cov -f AverageTemperature,greenhouse_gas_emissions"
   ]
  }
 ],
 "metadata": {
  "kernelspec": {
   "display_name": "Python 3.9.13 64-bit",
   "language": "python",
   "name": "python3"
  },
  "language_info": {
   "codemirror_mode": {
    "name": "ipython",
    "version": 3
   },
   "file_extension": ".py",
   "mimetype": "text/x-python",
   "name": "python",
   "nbconvert_exporter": "python",
   "pygments_lexer": "ipython3",
   "version": "3.9.13"
  },
  "orig_nbformat": 4,
  "vscode": {
   "interpreter": {
    "hash": "f9f85f796d01129d0dd105a088854619f454435301f6ffec2fea96ecbd9be4ac"
   }
  }
 },
 "nbformat": 4,
 "nbformat_minor": 2
}
