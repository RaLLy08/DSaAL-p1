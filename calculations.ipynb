{
 "cells": [
  {
   "cell_type": "code",
   "execution_count": 1,
   "metadata": {},
   "outputs": [],
   "source": [
    "data_path = '/result/temperature_energy_joined.csv'"
   ]
  },
  {
   "cell_type": "code",
   "execution_count": null,
   "metadata": {},
   "outputs": [],
   "source": [
    "!mlr --csv stats1 -a mode,p25,p50,p75 -f AverageTemperature -g dt ./result/temperature_energy_joined.csv"
   ]
  },
  {
   "cell_type": "markdown",
   "metadata": {},
   "source": [
    "# Cleaning 1990 data"
   ]
  },
  {
   "cell_type": "code",
   "execution_count": 4,
   "metadata": {},
   "outputs": [],
   "source": [
    "!mlr --csv filter '$dt == 1990' ./result/temperature_energy_joined.csv > ./stats/1990/1990_data.csv"
   ]
  },
  {
   "cell_type": "code",
   "execution_count": 74,
   "metadata": {},
   "outputs": [],
   "source": [
    "!mlr --csv cut -f dt,AverageTemperature,Country,coal_production ./stats/1990/1990_data.csv > ./stats/1990/cut/1990_coal_prod_cut.csv\n",
    "!mlr --csv cut -f dt,AverageTemperature,Country,oil_production ./stats/1990/1990_data.csv > ./stats/1990/cut/1990_oil_prod_cut.csv\n",
    "!mlr --csv cut -f dt,AverageTemperature,Country,gas_production ./stats/1990/1990_data.csv > ./stats/1990/cut/1990_gas_prod_cut.csv"
   ]
  },
  {
   "cell_type": "code",
   "execution_count": 75,
   "metadata": {},
   "outputs": [],
   "source": [
    "!awk -F, '($4 != 0 && $4 != \"\"){print$0}' ./stats/1990/sorted/1990_coal_prod_cut_sorted.csv > ./stats/1990/clean/1990_coal_prod_clean.csv\n",
    "!awk -F, '($4 != 0 && $4 != \"\"){print$0}' ./stats/1990/sorted/1990_oil_prod_cut_sorted.csv > ./stats/1990/clean/1990_oil_prod_clean.csv\n",
    "!awk -F, '($4 != 0 && $4 != \"\"){print$0}' ./stats/1990/sorted/1990_gas_prod_cut_sorted.csv > ./stats/1990/clean/1990_gas_prod_clean.csv"
   ]
  },
  {
   "cell_type": "code",
   "execution_count": 78,
   "metadata": {},
   "outputs": [],
   "source": [
    "!mlr --csv sort -nr coal_production ./stats/1990/clean/1990_coal_prod_clean.csv > ./stats/1990/sorted/1990_coal_prod_cut_sorted.csv; head -n 6 ./stats/1990/sorted/1990_coal_prod_cut_sorted.csv > ./stats/1990/clean_top5/1990_coal_prod_top5.csv\n",
    "!mlr --csv sort -nr oil_production ./stats/1990/clean/1990_oil_prod_clean.csv > ./stats/1990/sorted/1990_oil_prod_cut_sorted.csv; head -n 6 ./stats/1990/sorted/1990_oil_prod_cut_sorted.csv > ./stats/1990/clean_top5/1990_oil_prod_top5.csv\n",
    "!mlr --csv sort -nr gas_production ./stats/1990/clean/1990_gas_prod_clean.csv > ./stats/1990/sorted/1990_gas_prod_cut_sorted.csv; head -n 6 ./stats/1990/sorted/1990_gas_prod_cut_sorted.csv > ./stats/1990/clean_top5/1990_gas_prod_top5.csv"
   ]
  },
  {
   "cell_type": "markdown",
   "metadata": {},
   "source": [
    "# Cleaning 2013 data"
   ]
  },
  {
   "cell_type": "code",
   "execution_count": 55,
   "metadata": {},
   "outputs": [],
   "source": [
    "!mlr --csv filter '$dt == 2013' temperature_energy_joined.csv > ./stats/2013/2013_data.csv"
   ]
  },
  {
   "cell_type": "code",
   "execution_count": 56,
   "metadata": {},
   "outputs": [],
   "source": [
    "!mlr --csv cut -f dt,AverageTemperature,Country,coal_production ./stats/2013/2013_data.csv > ./stats/2013/cut/2013_coal_prod_cut.csv\n",
    "!mlr --csv cut -f dt,AverageTemperature,Country,oil_production ./stats/2013/2013_data.csv > ./stats/2013/cut/2013_oil_prod_cut.csv\n",
    "!mlr --csv cut -f dt,AverageTemperature,Country,gas_production ./stats/2013/2013_data.csv > ./stats/2013/cut/2013_gas_prod_cut.csv"
   ]
  },
  {
   "cell_type": "code",
   "execution_count": 65,
   "metadata": {},
   "outputs": [],
   "source": [
    "!awk -F, '($4 != 0 && $4 != \"\"){print$0}' ./stats/2013/sorted/2013_coal_prod_cut_sorted.csv > ./stats/2013/clean/2013_coal_prod_clean.csv\n",
    "!awk -F, '($4 != 0 && $4 != \"\"){print$0}' ./stats/2013/sorted/2013_oil_prod_cut_sorted.csv > ./stats/2013/clean/2013_oil_prod_clean.csv\n",
    "!awk -F, '($4 != 0 && $4 != \"\"){print$0}' ./stats/2013/sorted/2013_gas_prod_cut_sorted.csv > ./stats/2013/clean/2013_gas_prod_clean.csv"
   ]
  },
  {
   "cell_type": "code",
   "execution_count": 69,
   "metadata": {},
   "outputs": [],
   "source": [
    "!mlr --csv sort -nr coal_production ./stats/2013/clean/2013_coal_prod_clean.csv > ./stats/2013/sorted/2013_coal_prod_cut_sorted.csv; head -n 6 ./stats/2013/sorted/2013_coal_prod_cut_sorted.csv > ./stats/2013/clean_top5/2013_coal_prod_top5.csv\n",
    "!mlr --csv sort -nr oil_production ./stats/2013/clean/2013_oil_prod_clean.csv > ./stats/2013/sorted/2013_oil_prod_cut_sorted.csv; head -n 6 ./stats/2013/sorted/2013_oil_prod_cut_sorted.csv > ./stats/2013/clean_top5/2013_oil_prod_top5.csv\n",
    "!mlr --csv sort -nr gas_production ./stats/2013/clean/2013_gas_prod_clean.csv > ./stats/2013/sorted/2013_gas_prod_cut_sorted.csv; head -n 6 ./stats/2013/sorted/2013_gas_prod_cut_sorted.csv > ./stats/2013/clean_top5/2013_gas_prod_top5.csv"
   ]
  }
 ],
 "metadata": {
  "kernelspec": {
   "display_name": "Python 3.9.13 64-bit",
   "language": "python",
   "name": "python3"
  },
  "language_info": {
   "codemirror_mode": {
    "name": "ipython",
    "version": 3
   },
   "file_extension": ".py",
   "mimetype": "text/x-python",
   "name": "python",
   "nbconvert_exporter": "python",
   "pygments_lexer": "ipython3",
   "version": "3.9.13"
  },
  "orig_nbformat": 4,
  "vscode": {
   "interpreter": {
    "hash": "f9f85f796d01129d0dd105a088854619f454435301f6ffec2fea96ecbd9be4ac"
   }
  }
 },
 "nbformat": 4,
 "nbformat_minor": 2
}
